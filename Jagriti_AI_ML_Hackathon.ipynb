{
 "cells": [
  {
   "cell_type": "code",
   "execution_count": 1,
   "metadata": {},
   "outputs": [],
   "source": [
    "import pandas as pd\n",
    "import numpy as np"
   ]
  },
  {
   "cell_type": "code",
   "execution_count": 2,
   "metadata": {},
   "outputs": [
    {
     "data": {
      "text/html": [
       "<div>\n",
       "<style scoped>\n",
       "    .dataframe tbody tr th:only-of-type {\n",
       "        vertical-align: middle;\n",
       "    }\n",
       "\n",
       "    .dataframe tbody tr th {\n",
       "        vertical-align: top;\n",
       "    }\n",
       "\n",
       "    .dataframe thead th {\n",
       "        text-align: right;\n",
       "    }\n",
       "</style>\n",
       "<table border=\"1\" class=\"dataframe\">\n",
       "  <thead>\n",
       "    <tr style=\"text-align: right;\">\n",
       "      <th></th>\n",
       "      <th>Unnamed: 0</th>\n",
       "      <th>title</th>\n",
       "      <th>text</th>\n",
       "      <th>subject</th>\n",
       "      <th>date</th>\n",
       "      <th>label</th>\n",
       "    </tr>\n",
       "  </thead>\n",
       "  <tbody>\n",
       "    <tr>\n",
       "      <th>0</th>\n",
       "      <td>2619</td>\n",
       "      <td>Ex-CIA head says Trump remarks on Russia inter...</td>\n",
       "      <td>Former CIA director John Brennan on Friday cri...</td>\n",
       "      <td>politicsNews</td>\n",
       "      <td>July 22, 2017</td>\n",
       "      <td>1</td>\n",
       "    </tr>\n",
       "    <tr>\n",
       "      <th>1</th>\n",
       "      <td>16043</td>\n",
       "      <td>YOU WON’T BELIEVE HIS PUNISHMENT! HISPANIC STO...</td>\n",
       "      <td>How did this man come to OWN this store? There...</td>\n",
       "      <td>Government News</td>\n",
       "      <td>Jun 19, 2017</td>\n",
       "      <td>0</td>\n",
       "    </tr>\n",
       "    <tr>\n",
       "      <th>2</th>\n",
       "      <td>876</td>\n",
       "      <td>Federal Reserve governor Powell's policy views...</td>\n",
       "      <td>President Donald Trump on Thursday tapped Fede...</td>\n",
       "      <td>politicsNews</td>\n",
       "      <td>November 2, 2017</td>\n",
       "      <td>1</td>\n",
       "    </tr>\n",
       "    <tr>\n",
       "      <th>3</th>\n",
       "      <td>19963</td>\n",
       "      <td>SCOUNDREL HILLARY SUPPORTER STARTS “TrumpLeaks...</td>\n",
       "      <td>Hillary Clinton ally David Brock is offering t...</td>\n",
       "      <td>left-news</td>\n",
       "      <td>Sep 17, 2016</td>\n",
       "      <td>0</td>\n",
       "    </tr>\n",
       "    <tr>\n",
       "      <th>4</th>\n",
       "      <td>10783</td>\n",
       "      <td>NANCY PELOSI ARROGANTLY DISMISSES Questions on...</td>\n",
       "      <td>Pleading ignorance is a perfect ploy for Nancy...</td>\n",
       "      <td>politics</td>\n",
       "      <td>May 26, 2017</td>\n",
       "      <td>0</td>\n",
       "    </tr>\n",
       "  </tbody>\n",
       "</table>\n",
       "</div>"
      ],
      "text/plain": [
       "   Unnamed: 0                                              title  \\\n",
       "0        2619  Ex-CIA head says Trump remarks on Russia inter...   \n",
       "1       16043  YOU WON’T BELIEVE HIS PUNISHMENT! HISPANIC STO...   \n",
       "2         876  Federal Reserve governor Powell's policy views...   \n",
       "3       19963  SCOUNDREL HILLARY SUPPORTER STARTS “TrumpLeaks...   \n",
       "4       10783  NANCY PELOSI ARROGANTLY DISMISSES Questions on...   \n",
       "\n",
       "                                                text          subject  \\\n",
       "0  Former CIA director John Brennan on Friday cri...     politicsNews   \n",
       "1  How did this man come to OWN this store? There...  Government News   \n",
       "2  President Donald Trump on Thursday tapped Fede...     politicsNews   \n",
       "3  Hillary Clinton ally David Brock is offering t...        left-news   \n",
       "4  Pleading ignorance is a perfect ploy for Nancy...         politics   \n",
       "\n",
       "                date  label  \n",
       "0     July 22, 2017       1  \n",
       "1       Jun 19, 2017      0  \n",
       "2  November 2, 2017       1  \n",
       "3       Sep 17, 2016      0  \n",
       "4       May 26, 2017      0  "
      ]
     },
     "execution_count": 2,
     "metadata": {},
     "output_type": "execute_result"
    }
   ],
   "source": [
    "dataset = pd.read_csv(\"train.tsv\",delimiter=\"\\t\")\n",
    "dataset.head()"
   ]
  },
  {
   "cell_type": "code",
   "execution_count": 3,
   "metadata": {},
   "outputs": [
    {
     "data": {
      "text/plain": [
       "Unnamed: 0    0\n",
       "title         0\n",
       "text          0\n",
       "subject       0\n",
       "date          0\n",
       "label         0\n",
       "dtype: int64"
      ]
     },
     "execution_count": 3,
     "metadata": {},
     "output_type": "execute_result"
    }
   ],
   "source": [
    "dataset.isnull().sum()"
   ]
  },
  {
   "cell_type": "code",
   "execution_count": 4,
   "metadata": {},
   "outputs": [
    {
     "data": {
      "text/html": [
       "<div>\n",
       "<style scoped>\n",
       "    .dataframe tbody tr th:only-of-type {\n",
       "        vertical-align: middle;\n",
       "    }\n",
       "\n",
       "    .dataframe tbody tr th {\n",
       "        vertical-align: top;\n",
       "    }\n",
       "\n",
       "    .dataframe thead th {\n",
       "        text-align: right;\n",
       "    }\n",
       "</style>\n",
       "<table border=\"1\" class=\"dataframe\">\n",
       "  <thead>\n",
       "    <tr style=\"text-align: right;\">\n",
       "      <th></th>\n",
       "      <th>title</th>\n",
       "      <th>text</th>\n",
       "      <th>subject</th>\n",
       "      <th>date</th>\n",
       "      <th>label</th>\n",
       "    </tr>\n",
       "  </thead>\n",
       "  <tbody>\n",
       "    <tr>\n",
       "      <th>0</th>\n",
       "      <td>Ex-CIA head says Trump remarks on Russia inter...</td>\n",
       "      <td>Former CIA director John Brennan on Friday cri...</td>\n",
       "      <td>politicsNews</td>\n",
       "      <td>July 22, 2017</td>\n",
       "      <td>1</td>\n",
       "    </tr>\n",
       "    <tr>\n",
       "      <th>1</th>\n",
       "      <td>YOU WON’T BELIEVE HIS PUNISHMENT! HISPANIC STO...</td>\n",
       "      <td>How did this man come to OWN this store? There...</td>\n",
       "      <td>Government News</td>\n",
       "      <td>Jun 19, 2017</td>\n",
       "      <td>0</td>\n",
       "    </tr>\n",
       "    <tr>\n",
       "      <th>2</th>\n",
       "      <td>Federal Reserve governor Powell's policy views...</td>\n",
       "      <td>President Donald Trump on Thursday tapped Fede...</td>\n",
       "      <td>politicsNews</td>\n",
       "      <td>November 2, 2017</td>\n",
       "      <td>1</td>\n",
       "    </tr>\n",
       "    <tr>\n",
       "      <th>3</th>\n",
       "      <td>SCOUNDREL HILLARY SUPPORTER STARTS “TrumpLeaks...</td>\n",
       "      <td>Hillary Clinton ally David Brock is offering t...</td>\n",
       "      <td>left-news</td>\n",
       "      <td>Sep 17, 2016</td>\n",
       "      <td>0</td>\n",
       "    </tr>\n",
       "    <tr>\n",
       "      <th>4</th>\n",
       "      <td>NANCY PELOSI ARROGANTLY DISMISSES Questions on...</td>\n",
       "      <td>Pleading ignorance is a perfect ploy for Nancy...</td>\n",
       "      <td>politics</td>\n",
       "      <td>May 26, 2017</td>\n",
       "      <td>0</td>\n",
       "    </tr>\n",
       "    <tr>\n",
       "      <th>...</th>\n",
       "      <td>...</td>\n",
       "      <td>...</td>\n",
       "      <td>...</td>\n",
       "      <td>...</td>\n",
       "      <td>...</td>\n",
       "    </tr>\n",
       "    <tr>\n",
       "      <th>29995</th>\n",
       "      <td>U.S. aerospace industry urges Trump to help Ex...</td>\n",
       "      <td>The chief executive of the U.S. Aerospace Indu...</td>\n",
       "      <td>politicsNews</td>\n",
       "      <td>December 6, 2016</td>\n",
       "      <td>1</td>\n",
       "    </tr>\n",
       "    <tr>\n",
       "      <th>29996</th>\n",
       "      <td>Highlights: Hong Kong leader Carrie Lam delive...</td>\n",
       "      <td>The following are highlights of the maiden pol...</td>\n",
       "      <td>worldnews</td>\n",
       "      <td>October 11, 2017</td>\n",
       "      <td>1</td>\n",
       "    </tr>\n",
       "    <tr>\n",
       "      <th>29997</th>\n",
       "      <td>Obama Literally LAUGHS At Claims That Brexit M...</td>\n",
       "      <td>If there s one thing President Barack Obama is...</td>\n",
       "      <td>News</td>\n",
       "      <td>June 28, 2016</td>\n",
       "      <td>0</td>\n",
       "    </tr>\n",
       "    <tr>\n",
       "      <th>29998</th>\n",
       "      <td>Syrian army takes full control of Deir al-Zor ...</td>\n",
       "      <td>The Syrian army and its allies have taken full...</td>\n",
       "      <td>worldnews</td>\n",
       "      <td>November 2, 2017</td>\n",
       "      <td>1</td>\n",
       "    </tr>\n",
       "    <tr>\n",
       "      <th>29999</th>\n",
       "      <td>U.S., Israel sign $38 billion military aid pac...</td>\n",
       "      <td>The United States will give Israel $38 billion...</td>\n",
       "      <td>politicsNews</td>\n",
       "      <td>September 14, 2016</td>\n",
       "      <td>1</td>\n",
       "    </tr>\n",
       "  </tbody>\n",
       "</table>\n",
       "<p>30000 rows × 5 columns</p>\n",
       "</div>"
      ],
      "text/plain": [
       "                                                   title  \\\n",
       "0      Ex-CIA head says Trump remarks on Russia inter...   \n",
       "1      YOU WON’T BELIEVE HIS PUNISHMENT! HISPANIC STO...   \n",
       "2      Federal Reserve governor Powell's policy views...   \n",
       "3      SCOUNDREL HILLARY SUPPORTER STARTS “TrumpLeaks...   \n",
       "4      NANCY PELOSI ARROGANTLY DISMISSES Questions on...   \n",
       "...                                                  ...   \n",
       "29995  U.S. aerospace industry urges Trump to help Ex...   \n",
       "29996  Highlights: Hong Kong leader Carrie Lam delive...   \n",
       "29997  Obama Literally LAUGHS At Claims That Brexit M...   \n",
       "29998  Syrian army takes full control of Deir al-Zor ...   \n",
       "29999  U.S., Israel sign $38 billion military aid pac...   \n",
       "\n",
       "                                                    text          subject  \\\n",
       "0      Former CIA director John Brennan on Friday cri...     politicsNews   \n",
       "1      How did this man come to OWN this store? There...  Government News   \n",
       "2      President Donald Trump on Thursday tapped Fede...     politicsNews   \n",
       "3      Hillary Clinton ally David Brock is offering t...        left-news   \n",
       "4      Pleading ignorance is a perfect ploy for Nancy...         politics   \n",
       "...                                                  ...              ...   \n",
       "29995  The chief executive of the U.S. Aerospace Indu...     politicsNews   \n",
       "29996  The following are highlights of the maiden pol...        worldnews   \n",
       "29997  If there s one thing President Barack Obama is...             News   \n",
       "29998  The Syrian army and its allies have taken full...        worldnews   \n",
       "29999  The United States will give Israel $38 billion...     politicsNews   \n",
       "\n",
       "                      date  label  \n",
       "0           July 22, 2017       1  \n",
       "1             Jun 19, 2017      0  \n",
       "2        November 2, 2017       1  \n",
       "3             Sep 17, 2016      0  \n",
       "4             May 26, 2017      0  \n",
       "...                    ...    ...  \n",
       "29995    December 6, 2016       1  \n",
       "29996    October 11, 2017       1  \n",
       "29997        June 28, 2016      0  \n",
       "29998    November 2, 2017       1  \n",
       "29999  September 14, 2016       1  \n",
       "\n",
       "[30000 rows x 5 columns]"
      ]
     },
     "execution_count": 4,
     "metadata": {},
     "output_type": "execute_result"
    }
   ],
   "source": [
    "dataset.drop(\"Unnamed: 0\", axis=1,inplace=False)"
   ]
  },
  {
   "cell_type": "code",
   "execution_count": 5,
   "metadata": {},
   "outputs": [
    {
     "data": {
      "text/html": [
       "<div>\n",
       "<style scoped>\n",
       "    .dataframe tbody tr th:only-of-type {\n",
       "        vertical-align: middle;\n",
       "    }\n",
       "\n",
       "    .dataframe tbody tr th {\n",
       "        vertical-align: top;\n",
       "    }\n",
       "\n",
       "    .dataframe thead th {\n",
       "        text-align: right;\n",
       "    }\n",
       "</style>\n",
       "<table border=\"1\" class=\"dataframe\">\n",
       "  <thead>\n",
       "    <tr style=\"text-align: right;\">\n",
       "      <th></th>\n",
       "      <th>article</th>\n",
       "      <th>subject</th>\n",
       "      <th>date</th>\n",
       "      <th>label</th>\n",
       "    </tr>\n",
       "  </thead>\n",
       "  <tbody>\n",
       "    <tr>\n",
       "      <th>0</th>\n",
       "      <td>Ex-CIA head says Trump remarks on Russia inter...</td>\n",
       "      <td>politicsNews</td>\n",
       "      <td>July 22, 2017</td>\n",
       "      <td>1</td>\n",
       "    </tr>\n",
       "    <tr>\n",
       "      <th>1</th>\n",
       "      <td>YOU WON’T BELIEVE HIS PUNISHMENT! HISPANIC STO...</td>\n",
       "      <td>Government News</td>\n",
       "      <td>Jun 19, 2017</td>\n",
       "      <td>0</td>\n",
       "    </tr>\n",
       "    <tr>\n",
       "      <th>2</th>\n",
       "      <td>Federal Reserve governor Powell's policy views...</td>\n",
       "      <td>politicsNews</td>\n",
       "      <td>November 2, 2017</td>\n",
       "      <td>1</td>\n",
       "    </tr>\n",
       "    <tr>\n",
       "      <th>3</th>\n",
       "      <td>SCOUNDREL HILLARY SUPPORTER STARTS “TrumpLeaks...</td>\n",
       "      <td>left-news</td>\n",
       "      <td>Sep 17, 2016</td>\n",
       "      <td>0</td>\n",
       "    </tr>\n",
       "    <tr>\n",
       "      <th>4</th>\n",
       "      <td>NANCY PELOSI ARROGANTLY DISMISSES Questions on...</td>\n",
       "      <td>politics</td>\n",
       "      <td>May 26, 2017</td>\n",
       "      <td>0</td>\n",
       "    </tr>\n",
       "  </tbody>\n",
       "</table>\n",
       "</div>"
      ],
      "text/plain": [
       "                                             article          subject  \\\n",
       "0  Ex-CIA head says Trump remarks on Russia inter...     politicsNews   \n",
       "1  YOU WON’T BELIEVE HIS PUNISHMENT! HISPANIC STO...  Government News   \n",
       "2  Federal Reserve governor Powell's policy views...     politicsNews   \n",
       "3  SCOUNDREL HILLARY SUPPORTER STARTS “TrumpLeaks...        left-news   \n",
       "4  NANCY PELOSI ARROGANTLY DISMISSES Questions on...         politics   \n",
       "\n",
       "                date  label  \n",
       "0     July 22, 2017       1  \n",
       "1       Jun 19, 2017      0  \n",
       "2  November 2, 2017       1  \n",
       "3       Sep 17, 2016      0  \n",
       "4       May 26, 2017      0  "
      ]
     },
     "execution_count": 5,
     "metadata": {},
     "output_type": "execute_result"
    }
   ],
   "source": [
    "dataset[\"article\"] = dataset[\"title\"] + \" \" + dataset[\"text\"]\n",
    "dataset = dataset[[\"article\",\"subject\",\"date\",\"label\"]]\n",
    "dataset.head()"
   ]
  },
  {
   "cell_type": "code",
   "execution_count": 6,
   "metadata": {},
   "outputs": [
    {
     "data": {
      "text/plain": [
       "label\n",
       "0    15478\n",
       "1    14522\n",
       "Name: count, dtype: int64"
      ]
     },
     "execution_count": 6,
     "metadata": {},
     "output_type": "execute_result"
    }
   ],
   "source": [
    "dataset.label.value_counts()"
   ]
  },
  {
   "cell_type": "code",
   "execution_count": 7,
   "metadata": {},
   "outputs": [],
   "source": [
    "from transformers import AutoTokenizer\n",
    "from transformers import BertTokenizer, BertModel\n",
    "bert_tokenizer = BertTokenizer.from_pretrained(\"bert-base-uncased\")"
   ]
  },
  {
   "cell_type": "code",
   "execution_count": 8,
   "metadata": {},
   "outputs": [],
   "source": [
    "bert_model = BertModel.from_pretrained('bert-base-uncased')\n",
    "tokenizer = AutoTokenizer.from_pretrained('bert-base-uncased')"
   ]
  },
  {
   "cell_type": "code",
   "execution_count": 9,
   "metadata": {},
   "outputs": [],
   "source": [
    "def tokenize(X):  \n",
    "    X = bert_tokenizer(\n",
    "        text=list(X[\"article\"]),  \n",
    "        add_special_tokens=True,\n",
    "        max_length=100,\n",
    "        truncation=True,\n",
    "        padding=\"max_length\",  \n",
    "        return_tensors=\"pt\",\n",
    "        return_token_type_ids=False,\n",
    "        return_attention_mask=True,\n",
    "        verbose=True\n",
    "    )\n",
    "    return X"
   ]
  },
  {
   "cell_type": "code",
   "execution_count": 10,
   "metadata": {},
   "outputs": [
    {
     "data": {
      "application/vnd.jupyter.widget-view+json": {
       "model_id": "2833fe8d608742fe8642fd22a2dc85eb",
       "version_major": 2,
       "version_minor": 0
      },
      "text/plain": [
       "Map:   0%|          | 0/30000 [00:00<?, ? examples/s]"
      ]
     },
     "metadata": {},
     "output_type": "display_data"
    }
   ],
   "source": [
    "from datasets import Dataset  \n",
    "hf_dataset = Dataset.from_pandas(dataset)  \n",
    "hf_dataset = hf_dataset.map(lambda x: tokenize(x), batched=True) "
   ]
  },
  {
   "cell_type": "code",
   "execution_count": null,
   "metadata": {},
   "outputs": [],
   "source": [
    "hf_dataset = hf_dataset.rename_columns({\"label\": \"labels\"})  \n",
    "hf_dataset.set_format(type=\"torch\", columns=[\"input_ids\", \"attention_mask\", \"labels\"])  "
   ]
  },
  {
   "cell_type": "code",
   "execution_count": 12,
   "metadata": {},
   "outputs": [
    {
     "name": "stderr",
     "output_type": "stream",
     "text": [
      "Some weights of BertForSequenceClassification were not initialized from the model checkpoint at bert-base-uncased and are newly initialized: ['classifier.bias', 'classifier.weight']\n",
      "You should probably TRAIN this model on a down-stream task to be able to use it for predictions and inference.\n"
     ]
    }
   ],
   "source": [
    "from transformers import AutoModelForSequenceClassification\n",
    "\n",
    "model = AutoModelForSequenceClassification.from_pretrained(\n",
    "    \"bert-base-uncased\",  \n",
    "    num_labels=len(dataset[\"label\"].unique()),  \n",
    "    torch_dtype=\"auto\"\n",
    ")"
   ]
  },
  {
   "cell_type": "code",
   "execution_count": 13,
   "metadata": {},
   "outputs": [
    {
     "name": "stderr",
     "output_type": "stream",
     "text": [
      "c:\\Users\\ssudh\\anaconda3\\envs\\easyocr_env\\lib\\site-packages\\transformers\\training_args.py:1575: FutureWarning: `evaluation_strategy` is deprecated and will be removed in version 4.46 of 🤗 Transformers. Use `eval_strategy` instead\n",
      "  warnings.warn(\n"
     ]
    }
   ],
   "source": [
    "from transformers import TrainingArguments\n",
    "training_args = TrainingArguments(\n",
    "    output_dir=\"./test_trainer\",  \n",
    "    evaluation_strategy=\"epoch\", \n",
    "    per_device_train_batch_size=8,  \n",
    "    num_train_epochs=3, \n",
    "    save_steps=10_000,\n",
    "    save_total_limit=2,\n",
    "    logging_dir=\"./logs\",  \n",
    ")"
   ]
  },
  {
   "cell_type": "code",
   "execution_count": 49,
   "metadata": {},
   "outputs": [],
   "source": [
    "!pip install accelerate>=0.26.0"
   ]
  },
  {
   "cell_type": "code",
   "execution_count": 16,
   "metadata": {},
   "outputs": [],
   "source": [
    "from sklearn.metrics import accuracy_score, precision_recall_fscore_support\n",
    "\n",
    "def compute_metrics(eval_pred):\n",
    "    logits, labels = eval_pred\n",
    "    predictions = logits.argmax(axis=-1)  # Get the predicted class\n",
    "    precision, recall, f1, _ = precision_recall_fscore_support(labels, predictions, average=\"weighted\")\n",
    "    accuracy = accuracy_score(labels, predictions)\n",
    "    return {\n",
    "        \"accuracy\": accuracy,\n",
    "        \"precision\": precision,\n",
    "        \"recall\": recall,\n",
    "        \"f1\": f1,\n",
    "    }\n"
   ]
  },
  {
   "cell_type": "code",
   "execution_count": 20,
   "metadata": {},
   "outputs": [
    {
     "data": {
      "text/html": [
       "<div>\n",
       "<style scoped>\n",
       "    .dataframe tbody tr th:only-of-type {\n",
       "        vertical-align: middle;\n",
       "    }\n",
       "\n",
       "    .dataframe tbody tr th {\n",
       "        vertical-align: top;\n",
       "    }\n",
       "\n",
       "    .dataframe thead th {\n",
       "        text-align: right;\n",
       "    }\n",
       "</style>\n",
       "<table border=\"1\" class=\"dataframe\">\n",
       "  <thead>\n",
       "    <tr style=\"text-align: right;\">\n",
       "      <th></th>\n",
       "      <th>article</th>\n",
       "      <th>subject</th>\n",
       "      <th>date</th>\n",
       "      <th>label</th>\n",
       "    </tr>\n",
       "  </thead>\n",
       "  <tbody>\n",
       "    <tr>\n",
       "      <th>0</th>\n",
       "      <td>Conservatives Will HATE What Donald Trump Just...</td>\n",
       "      <td>News</td>\n",
       "      <td>February 14, 2016</td>\n",
       "      <td>0</td>\n",
       "    </tr>\n",
       "    <tr>\n",
       "      <th>1</th>\n",
       "      <td>Trump victory may create new tension between U...</td>\n",
       "      <td>politicsNews</td>\n",
       "      <td>November 9, 2016</td>\n",
       "      <td>1</td>\n",
       "    </tr>\n",
       "    <tr>\n",
       "      <th>2</th>\n",
       "      <td>WATCH: Hundreds of ILLEGAL ALIENS Storm Senate...</td>\n",
       "      <td>politics</td>\n",
       "      <td>Nov 9, 2017</td>\n",
       "      <td>0</td>\n",
       "    </tr>\n",
       "    <tr>\n",
       "      <th>3</th>\n",
       "      <td>Democratic Senator Franken to resign: CNN, cit...</td>\n",
       "      <td>politicsNews</td>\n",
       "      <td>December 7, 2017</td>\n",
       "      <td>1</td>\n",
       "    </tr>\n",
       "    <tr>\n",
       "      <th>4</th>\n",
       "      <td>GANG OF DOMESTIC TERRORISTS Violently Attack L...</td>\n",
       "      <td>left-news</td>\n",
       "      <td>Jan 21, 2017</td>\n",
       "      <td>0</td>\n",
       "    </tr>\n",
       "  </tbody>\n",
       "</table>\n",
       "</div>"
      ],
      "text/plain": [
       "                                             article       subject  \\\n",
       "0  Conservatives Will HATE What Donald Trump Just...          News   \n",
       "1  Trump victory may create new tension between U...  politicsNews   \n",
       "2  WATCH: Hundreds of ILLEGAL ALIENS Storm Senate...      politics   \n",
       "3  Democratic Senator Franken to resign: CNN, cit...  politicsNews   \n",
       "4  GANG OF DOMESTIC TERRORISTS Violently Attack L...     left-news   \n",
       "\n",
       "                date  label  \n",
       "0  February 14, 2016      0  \n",
       "1  November 9, 2016       1  \n",
       "2        Nov 9, 2017      0  \n",
       "3  December 7, 2017       1  \n",
       "4       Jan 21, 2017      0  "
      ]
     },
     "execution_count": 20,
     "metadata": {},
     "output_type": "execute_result"
    }
   ],
   "source": [
    "eval_dataset = pd.read_csv(\"test.tsv\",delimiter=\"\\t\")\n",
    "eval_dataset.drop(\"Unnamed: 0\", axis=1,inplace=False)\n",
    "eval_dataset[\"article\"] = eval_dataset[\"title\"] + \" \" + eval_dataset[\"text\"]\n",
    "eval_dataset = eval_dataset[[\"article\",\"subject\",\"date\",\"label\"]]\n",
    "eval_dataset.head()"
   ]
  },
  {
   "cell_type": "code",
   "execution_count": 21,
   "metadata": {},
   "outputs": [
    {
     "data": {
      "application/vnd.jupyter.widget-view+json": {
       "model_id": "dedb730b2f774dfebdad38f1a6461237",
       "version_major": 2,
       "version_minor": 0
      },
      "text/plain": [
       "Map:   0%|          | 0/8267 [00:00<?, ? examples/s]"
      ]
     },
     "metadata": {},
     "output_type": "display_data"
    }
   ],
   "source": [
    "from datasets import Dataset  \n",
    "hf_evdataset = Dataset.from_pandas(eval_dataset)  \n",
    "hf_evdataset = hf_evdataset.map(lambda x: tokenize(x), batched=True) \n",
    "hf_evdataset = hf_evdataset.rename_columns({\"label\": \"labels\"})  \n",
    "hf_evdataset.set_format(type=\"torch\", columns=[\"input_ids\", \"attention_mask\", \"labels\"])  "
   ]
  },
  {
   "cell_type": "code",
   "execution_count": 22,
   "metadata": {},
   "outputs": [],
   "source": [
    "from transformers import Trainer, TrainingArguments\n",
    "trainer = Trainer(\n",
    "    model=model,\n",
    "    args=training_args,\n",
    "    train_dataset=hf_dataset,\n",
    "    eval_dataset=hf_evdataset,\n",
    "    compute_metrics=compute_metrics, \n",
    "    ) "
   ]
  },
  {
   "cell_type": "code",
   "execution_count": 23,
   "metadata": {},
   "outputs": [
    {
     "data": {
      "application/vnd.jupyter.widget-view+json": {
       "model_id": "7053f2ec8ea442ff8addbfc4416f0f07",
       "version_major": 2,
       "version_minor": 0
      },
      "text/plain": [
       "  0%|          | 0/11250 [00:00<?, ?it/s]"
      ]
     },
     "metadata": {},
     "output_type": "display_data"
    },
    {
     "name": "stdout",
     "output_type": "stream",
     "text": [
      "{'loss': 0.1656, 'grad_norm': 0.026309076696634293, 'learning_rate': 4.7777777777777784e-05, 'epoch': 0.13}\n",
      "{'loss': 0.0706, 'grad_norm': 0.05631306394934654, 'learning_rate': 4.555555555555556e-05, 'epoch': 0.27}\n",
      "{'loss': 0.0652, 'grad_norm': 9.112504959106445, 'learning_rate': 4.3333333333333334e-05, 'epoch': 0.4}\n",
      "{'loss': 0.0384, 'grad_norm': 0.0035010678693652153, 'learning_rate': 4.111111111111111e-05, 'epoch': 0.53}\n",
      "{'loss': 0.0399, 'grad_norm': 0.10961001366376877, 'learning_rate': 3.888888888888889e-05, 'epoch': 0.67}\n",
      "{'loss': 0.0389, 'grad_norm': 0.2363947182893753, 'learning_rate': 3.6666666666666666e-05, 'epoch': 0.8}\n",
      "{'loss': 0.0263, 'grad_norm': 0.0013656800147145987, 'learning_rate': 3.444444444444445e-05, 'epoch': 0.93}\n"
     ]
    },
    {
     "data": {
      "application/vnd.jupyter.widget-view+json": {
       "model_id": "3920a0c53d4544e3b42d5f20f392d219",
       "version_major": 2,
       "version_minor": 0
      },
      "text/plain": [
       "  0%|          | 0/1034 [00:00<?, ?it/s]"
      ]
     },
     "metadata": {},
     "output_type": "display_data"
    },
    {
     "name": "stdout",
     "output_type": "stream",
     "text": [
      "{'eval_loss': 0.017517559230327606, 'eval_accuracy': 0.9968549655255836, 'eval_precision': 0.9968576004644056, 'eval_recall': 0.9968549655255836, 'eval_f1': 0.9968548222061829, 'eval_runtime': 97.7534, 'eval_samples_per_second': 84.57, 'eval_steps_per_second': 10.578, 'epoch': 1.0}\n",
      "{'loss': 0.0173, 'grad_norm': 0.0010265439050272107, 'learning_rate': 3.222222222222223e-05, 'epoch': 1.07}\n",
      "{'loss': 0.002, 'grad_norm': 0.00013034077710472047, 'learning_rate': 3e-05, 'epoch': 1.2}\n",
      "{'loss': 0.0129, 'grad_norm': 0.0018639473710209131, 'learning_rate': 2.777777777777778e-05, 'epoch': 1.33}\n",
      "{'loss': 0.0121, 'grad_norm': 0.000131679029436782, 'learning_rate': 2.5555555555555554e-05, 'epoch': 1.47}\n",
      "{'loss': 0.0084, 'grad_norm': 0.00021303861285559833, 'learning_rate': 2.3333333333333336e-05, 'epoch': 1.6}\n",
      "{'loss': 0.0218, 'grad_norm': 0.0015556636499240994, 'learning_rate': 2.111111111111111e-05, 'epoch': 1.73}\n",
      "{'loss': 0.0075, 'grad_norm': 0.00014337858010549098, 'learning_rate': 1.888888888888889e-05, 'epoch': 1.87}\n",
      "{'loss': 0.0037, 'grad_norm': 7.999740046216175e-05, 'learning_rate': 1.6666666666666667e-05, 'epoch': 2.0}\n"
     ]
    },
    {
     "data": {
      "application/vnd.jupyter.widget-view+json": {
       "model_id": "a9857dbc88ee4836b2d2c039a1d55d60",
       "version_major": 2,
       "version_minor": 0
      },
      "text/plain": [
       "  0%|          | 0/1034 [00:00<?, ?it/s]"
      ]
     },
     "metadata": {},
     "output_type": "display_data"
    },
    {
     "name": "stdout",
     "output_type": "stream",
     "text": [
      "{'eval_loss': 0.014223740436136723, 'eval_accuracy': 0.997701705576388, 'eval_precision': 0.9977042502492396, 'eval_recall': 0.997701705576388, 'eval_f1': 0.997701794062947, 'eval_runtime': 65.4515, 'eval_samples_per_second': 126.307, 'eval_steps_per_second': 15.798, 'epoch': 2.0}\n",
      "{'loss': 0.0031, 'grad_norm': 0.0005904629360884428, 'learning_rate': 1.4444444444444444e-05, 'epoch': 2.13}\n",
      "{'loss': 0.0054, 'grad_norm': 0.0015232727164402604, 'learning_rate': 1.2222222222222222e-05, 'epoch': 2.27}\n",
      "{'loss': 0.0035, 'grad_norm': 0.00015362004342023283, 'learning_rate': 1e-05, 'epoch': 2.4}\n",
      "{'loss': 0.0002, 'grad_norm': 6.982347986195236e-05, 'learning_rate': 7.777777777777777e-06, 'epoch': 2.53}\n",
      "{'loss': 0.0, 'grad_norm': 6.561769259860739e-05, 'learning_rate': 5.555555555555556e-06, 'epoch': 2.67}\n",
      "{'loss': 0.0018, 'grad_norm': 0.00011300406185910106, 'learning_rate': 3.3333333333333333e-06, 'epoch': 2.8}\n",
      "{'loss': 0.0, 'grad_norm': 5.039016105001792e-05, 'learning_rate': 1.1111111111111112e-06, 'epoch': 2.93}\n"
     ]
    },
    {
     "data": {
      "application/vnd.jupyter.widget-view+json": {
       "model_id": "a4c321618c5c41c585e8a3505b9afd08",
       "version_major": 2,
       "version_minor": 0
      },
      "text/plain": [
       "  0%|          | 0/1034 [00:00<?, ?it/s]"
      ]
     },
     "metadata": {},
     "output_type": "display_data"
    },
    {
     "name": "stdout",
     "output_type": "stream",
     "text": [
      "{'eval_loss': 0.013733165338635445, 'eval_accuracy': 0.9983065198983911, 'eval_precision': 0.9983076607312901, 'eval_recall': 0.9983065198983911, 'eval_f1': 0.9983065638131854, 'eval_runtime': 49.5176, 'eval_samples_per_second': 166.951, 'eval_steps_per_second': 20.881, 'epoch': 3.0}\n",
      "{'train_runtime': 3222.4872, 'train_samples_per_second': 27.929, 'train_steps_per_second': 3.491, 'train_loss': 0.02428512336804221, 'epoch': 3.0}\n"
     ]
    },
    {
     "data": {
      "text/plain": [
       "TrainOutput(global_step=11250, training_loss=0.02428512336804221, metrics={'train_runtime': 3222.4872, 'train_samples_per_second': 27.929, 'train_steps_per_second': 3.491, 'total_flos': 4624999020000000.0, 'train_loss': 0.02428512336804221, 'epoch': 3.0})"
      ]
     },
     "execution_count": 23,
     "metadata": {},
     "output_type": "execute_result"
    }
   ],
   "source": [
    "trainer.train()"
   ]
  },
  {
   "cell_type": "code",
   "execution_count": 34,
   "metadata": {},
   "outputs": [
    {
     "data": {
      "application/vnd.jupyter.widget-view+json": {
       "model_id": "2e23835191e44f53b6fb6100c4c56ce2",
       "version_major": 2,
       "version_minor": 0
      },
      "text/plain": [
       "Map:   0%|          | 0/1 [00:00<?, ? examples/s]"
      ]
     },
     "metadata": {},
     "output_type": "display_data"
    },
    {
     "data": {
      "application/vnd.jupyter.widget-view+json": {
       "model_id": "56d8f2167c9b4b07bd245566b6a8314d",
       "version_major": 2,
       "version_minor": 0
      },
      "text/plain": [
       "  0%|          | 0/1 [00:00<?, ?it/s]"
      ]
     },
     "metadata": {},
     "output_type": "display_data"
    },
    {
     "name": "stdout",
     "output_type": "stream",
     "text": [
      "Text: GANG OF DOMESTIC TERRORISTS Violently Attack Lone Trump Supporter For Putting Out Huge Fire Started On Street In DC [VIDEO] ***WARNING*** Violence is graphic***This Trump supporter used a fire extinguisher to put out a fire on the street in DC that was started by domestic terrorists who were rioting in opposition to Trump s presidency.Watch how these animals attack this brave young man for doing the right thing:https://twitter.com/TEN_GOP/status/822629269109178369\n",
      "Predicted Label: 0\n"
     ]
    }
   ],
   "source": [
    "from datasets import Dataset\n",
    "\n",
    "row_index = 4 \n",
    "row_text = eval_dataset.iloc[row_index][\"article\"]\n",
    "\n",
    "\n",
    "row_data = {\"article\": [row_text]}\n",
    "row_dataset = Dataset.from_dict(row_data)\n",
    "\n",
    "\n",
    "tokenized_row = row_dataset.map(lambda x: tokenizer(x[\"article\"], truncation=True, padding=\"max_length\"), batched=True)\n",
    "\n",
    "\n",
    "predictions = trainer.predict(tokenized_row)\n",
    "predicted_logits = predictions.predictions\n",
    "predicted_labels = predicted_logits.argmax(axis=-1)\n",
    "\n",
    "\n",
    "label_map = {0: \"0\", 1: \"1\"}  \n",
    "predicted_label = label_map[predicted_labels[0]]\n",
    "\n",
    "print(f\"Text: {row_text}\")\n",
    "print(f\"Predicted Label: {predicted_label}\")\n"
   ]
  },
  {
   "cell_type": "code",
   "execution_count": 30,
   "metadata": {},
   "outputs": [
    {
     "data": {
      "text/html": [
       "<div>\n",
       "<style scoped>\n",
       "    .dataframe tbody tr th:only-of-type {\n",
       "        vertical-align: middle;\n",
       "    }\n",
       "\n",
       "    .dataframe tbody tr th {\n",
       "        vertical-align: top;\n",
       "    }\n",
       "\n",
       "    .dataframe thead th {\n",
       "        text-align: right;\n",
       "    }\n",
       "</style>\n",
       "<table border=\"1\" class=\"dataframe\">\n",
       "  <thead>\n",
       "    <tr style=\"text-align: right;\">\n",
       "      <th></th>\n",
       "      <th>article</th>\n",
       "      <th>subject</th>\n",
       "      <th>date</th>\n",
       "      <th>label</th>\n",
       "    </tr>\n",
       "  </thead>\n",
       "  <tbody>\n",
       "    <tr>\n",
       "      <th>0</th>\n",
       "      <td>Conservatives Will HATE What Donald Trump Just...</td>\n",
       "      <td>News</td>\n",
       "      <td>February 14, 2016</td>\n",
       "      <td>0</td>\n",
       "    </tr>\n",
       "    <tr>\n",
       "      <th>1</th>\n",
       "      <td>Trump victory may create new tension between U...</td>\n",
       "      <td>politicsNews</td>\n",
       "      <td>November 9, 2016</td>\n",
       "      <td>1</td>\n",
       "    </tr>\n",
       "    <tr>\n",
       "      <th>2</th>\n",
       "      <td>WATCH: Hundreds of ILLEGAL ALIENS Storm Senate...</td>\n",
       "      <td>politics</td>\n",
       "      <td>Nov 9, 2017</td>\n",
       "      <td>0</td>\n",
       "    </tr>\n",
       "    <tr>\n",
       "      <th>3</th>\n",
       "      <td>Democratic Senator Franken to resign: CNN, cit...</td>\n",
       "      <td>politicsNews</td>\n",
       "      <td>December 7, 2017</td>\n",
       "      <td>1</td>\n",
       "    </tr>\n",
       "    <tr>\n",
       "      <th>4</th>\n",
       "      <td>GANG OF DOMESTIC TERRORISTS Violently Attack L...</td>\n",
       "      <td>left-news</td>\n",
       "      <td>Jan 21, 2017</td>\n",
       "      <td>0</td>\n",
       "    </tr>\n",
       "    <tr>\n",
       "      <th>...</th>\n",
       "      <td>...</td>\n",
       "      <td>...</td>\n",
       "      <td>...</td>\n",
       "      <td>...</td>\n",
       "    </tr>\n",
       "    <tr>\n",
       "      <th>8262</th>\n",
       "      <td>Russian MP says Flynn was forced to resign to ...</td>\n",
       "      <td>politicsNews</td>\n",
       "      <td>February 14, 2017</td>\n",
       "      <td>1</td>\n",
       "    </tr>\n",
       "    <tr>\n",
       "      <th>8263</th>\n",
       "      <td>Highlights: The Trump presidency on March 7 at...</td>\n",
       "      <td>politicsNews</td>\n",
       "      <td>March 7, 2017</td>\n",
       "      <td>1</td>\n",
       "    </tr>\n",
       "    <tr>\n",
       "      <th>8264</th>\n",
       "      <td>SHOCKER! WAS MUSLIM TERRORIST GAY? Used Gay Da...</td>\n",
       "      <td>left-news</td>\n",
       "      <td>Jun 13, 2016</td>\n",
       "      <td>0</td>\n",
       "    </tr>\n",
       "    <tr>\n",
       "      <th>8265</th>\n",
       "      <td>John McCain and The Cancer of Conflict Patrick...</td>\n",
       "      <td>US_News</td>\n",
       "      <td>July 21, 2017</td>\n",
       "      <td>0</td>\n",
       "    </tr>\n",
       "    <tr>\n",
       "      <th>8266</th>\n",
       "      <td>Trump Just Caused A Diplomatic Crisis With Chi...</td>\n",
       "      <td>News</td>\n",
       "      <td>December 2, 2016</td>\n",
       "      <td>0</td>\n",
       "    </tr>\n",
       "  </tbody>\n",
       "</table>\n",
       "<p>8267 rows × 4 columns</p>\n",
       "</div>"
      ],
      "text/plain": [
       "                                                article       subject  \\\n",
       "0     Conservatives Will HATE What Donald Trump Just...          News   \n",
       "1     Trump victory may create new tension between U...  politicsNews   \n",
       "2     WATCH: Hundreds of ILLEGAL ALIENS Storm Senate...      politics   \n",
       "3     Democratic Senator Franken to resign: CNN, cit...  politicsNews   \n",
       "4     GANG OF DOMESTIC TERRORISTS Violently Attack L...     left-news   \n",
       "...                                                 ...           ...   \n",
       "8262  Russian MP says Flynn was forced to resign to ...  politicsNews   \n",
       "8263  Highlights: The Trump presidency on March 7 at...  politicsNews   \n",
       "8264  SHOCKER! WAS MUSLIM TERRORIST GAY? Used Gay Da...     left-news   \n",
       "8265  John McCain and The Cancer of Conflict Patrick...       US_News   \n",
       "8266  Trump Just Caused A Diplomatic Crisis With Chi...          News   \n",
       "\n",
       "                    date  label  \n",
       "0      February 14, 2016      0  \n",
       "1      November 9, 2016       1  \n",
       "2            Nov 9, 2017      0  \n",
       "3      December 7, 2017       1  \n",
       "4           Jan 21, 2017      0  \n",
       "...                  ...    ...  \n",
       "8262  February 14, 2017       1  \n",
       "8263      March 7, 2017       1  \n",
       "8264        Jun 13, 2016      0  \n",
       "8265       July 21, 2017      0  \n",
       "8266    December 2, 2016      0  \n",
       "\n",
       "[8267 rows x 4 columns]"
      ]
     },
     "execution_count": 30,
     "metadata": {},
     "output_type": "execute_result"
    }
   ],
   "source": [
    "eval_dataset"
   ]
  },
  {
   "cell_type": "code",
   "execution_count": null,
   "metadata": {},
   "outputs": [],
   "source": []
  }
 ],
 "metadata": {
  "kernelspec": {
   "display_name": "easyocr_env",
   "language": "python",
   "name": "python3"
  },
  "language_info": {
   "codemirror_mode": {
    "name": "ipython",
    "version": 3
   },
   "file_extension": ".py",
   "mimetype": "text/x-python",
   "name": "python",
   "nbconvert_exporter": "python",
   "pygments_lexer": "ipython3",
   "version": "3.10.15"
  }
 },
 "nbformat": 4,
 "nbformat_minor": 2
}
